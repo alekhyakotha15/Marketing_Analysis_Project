{
 "cells": [
  {
   "cell_type": "code",
   "execution_count": 1,
   "id": "39befd19-92e6-4af2-bfa1-0329e78d2874",
   "metadata": {},
   "outputs": [],
   "source": [
    "import pandas as pd\n",
    "import pyodbc\n",
    "import nltk\n",
    "from nltk.sentiment.vader import SentimentIntensityAnalyzer"
   ]
  },
  {
   "cell_type": "code",
   "execution_count": 11,
   "id": "2bcd9094-258c-47f0-b7a3-a8b1d43d2627",
   "metadata": {},
   "outputs": [
    {
     "name": "stderr",
     "output_type": "stream",
     "text": [
      "C:\\Users\\Alekhya\\AppData\\Local\\Temp\\ipykernel_13484\\4058104976.py:11: UserWarning: pandas only supports SQLAlchemy connectable (engine/connection) or database string URI or sqlite3 DBAPI2 connection. Other DBAPI2 objects are not tested. Please consider using SQLAlchemy.\n",
      "  df=pd.read_sql_query(query,conn)\n"
     ]
    }
   ],
   "source": [
    "#fetching data from sql database using a sql query\n",
    "def fetch_data():\n",
    "    conn_str=(\n",
    "        \"Driver={SQL Server};\"\n",
    "        \"Server=LAPTOP-NQ0K6AQI\\\\SQLEXPRESS;\"\n",
    "        \"Database=PortfolioProject_MarketingAnalytics;\"\n",
    "        \"Trusted_Connection=yes;\"\n",
    "    )\n",
    "    conn=pyodbc.connect(conn_str)\n",
    "    query=\"Select ReviewID,CustomerID,ProductID,ReviewDate,Rating,ReviewText from dbo.customer_reviews\"\n",
    "    df=pd.read_sql_query(query,conn)\n",
    "    conn.close()\n",
    "    return df\n",
    "cus_review_df=fetch_data()"
   ]
  },
  {
   "cell_type": "code",
   "execution_count": 15,
   "id": "26f5fe15-4aa6-48a8-a562-fdeb23f8997c",
   "metadata": {},
   "outputs": [
    {
     "name": "stderr",
     "output_type": "stream",
     "text": [
      "[nltk_data] Downloading package vader_lexicon to\n",
      "[nltk_data]     C:\\Users\\Alekhya\\AppData\\Roaming\\nltk_data...\n"
     ]
    }
   ],
   "source": [
    "nltk.download('vader_lexicon')\n",
    "sa=SentimentIntensityAnalyzer()"
   ]
  },
  {
   "cell_type": "code",
   "execution_count": 17,
   "id": "02869d26-bcc0-4aa5-9618-0df0b34c31d7",
   "metadata": {},
   "outputs": [],
   "source": [
    "#function to calculate sentiment score\n",
    "def calculate_sentiment(review):\n",
    "    sentiment=sa.polarity_scores(review)\n",
    "    return sentiment['compound']"
   ]
  },
  {
   "cell_type": "code",
   "execution_count": 19,
   "id": "c16fd766-bea8-4327-ad36-0a35c6379b42",
   "metadata": {},
   "outputs": [],
   "source": [
    "#funtion to categorize sentiment using both score and review rating\n",
    "def categorize_sentiment(score,rating):\n",
    "    if score>0.05:\n",
    "        if rating>=4:\n",
    "            return \"Positive\"\n",
    "        elif rating ==3:\n",
    "            return \"Mixed Positive\"\n",
    "        else:\n",
    "            return \"Mixed Negative\"\n",
    "    elif score<-0.05:\n",
    "        if rating<=2:\n",
    "            return \"Negative\"\n",
    "        elif rating==3:\n",
    "            return \"Mixed Negative\"\n",
    "        else:\n",
    "            return \"Mixed Positive\"\n",
    "    else:\n",
    "        if rating>=4:\n",
    "            return \"Positive\"\n",
    "        elif rating<=2:\n",
    "            return \"Negative\"\n",
    "        else:\n",
    "            return \"Neutral\""
   ]
  },
  {
   "cell_type": "code",
   "execution_count": 21,
   "id": "83ed1408-f494-42b7-8edb-987a6b3d18e7",
   "metadata": {},
   "outputs": [],
   "source": [
    "#function to bucket sentiment scores into ranges\n",
    "def sentiment_bucket(score):\n",
    "    if score>=0.5:\n",
    "        return '0.5 to 1.0'\n",
    "    elif 0.0<=score<0.5:\n",
    "        return '0.0 to 0.49'\n",
    "    elif -0.5<=score<0.0:\n",
    "        return '-0.49 to 0.0'\n",
    "    else:\n",
    "        return '-1.0 to -0.5'"
   ]
  },
  {
   "cell_type": "code",
   "execution_count": 23,
   "id": "2429de5c-92f6-4584-8ebc-0a1c75c1bdad",
   "metadata": {},
   "outputs": [],
   "source": [
    "cus_review_df['SentimentScore']=cus_review_df['ReviewText'].apply(calculate_sentiment)"
   ]
  },
  {
   "cell_type": "code",
   "execution_count": 27,
   "id": "01450bad-8af3-48a5-a30e-b7e699b0674f",
   "metadata": {},
   "outputs": [],
   "source": [
    "cus_review_df['SentimentCategory']=cus_review_df.apply(\n",
    "    lambda row:categorize_sentiment(row['SentimentScore'],row['Rating']),axis=1)"
   ]
  },
  {
   "cell_type": "code",
   "execution_count": 29,
   "id": "f98fd108-d972-46db-ad88-a3741b49be34",
   "metadata": {},
   "outputs": [],
   "source": [
    "cus_review_df['SentimentBucket']=cus_review_df['SentimentScore'].apply(sentiment_bucket)"
   ]
  },
  {
   "cell_type": "code",
   "execution_count": 31,
   "id": "98c042ce-cc00-4ec2-a7f7-99fe989ecda8",
   "metadata": {},
   "outputs": [
    {
     "name": "stdout",
     "output_type": "stream",
     "text": [
      "   ReviewID  CustomerID  ProductID  ReviewDate  Rating  \\\n",
      "0         1          77         18  2023-12-23       3   \n",
      "1         2          80         19  2024-12-25       5   \n",
      "2         3          50         13  2025-01-26       4   \n",
      "3         4          78         15  2025-04-21       3   \n",
      "4         5          64          2  2023-07-16       3   \n",
      "\n",
      "                                 ReviewText  SentimentScore SentimentCategory  \\\n",
      "0   Average  experience,  nothing  special.         -0.3089    Mixed Negative   \n",
      "1            The  quality  is    top-notch.          0.0000          Positive   \n",
      "2   Five  stars  for  the  quick  delivery.          0.0000          Positive   \n",
      "3  Good  quality,  but  could  be  cheaper.          0.2382    Mixed Positive   \n",
      "4   Average  experience,  nothing  special.         -0.3089    Mixed Negative   \n",
      "\n",
      "  SentimentBucket  \n",
      "0    -0.49 to 0.0  \n",
      "1     0.0 to 0.49  \n",
      "2     0.0 to 0.49  \n",
      "3     0.0 to 0.49  \n",
      "4    -0.49 to 0.0  \n"
     ]
    }
   ],
   "source": [
    "print(cus_review_df.head())"
   ]
  },
  {
   "cell_type": "code",
   "execution_count": 37,
   "id": "2eef4b18-8518-442e-af54-487d879b0fa9",
   "metadata": {},
   "outputs": [],
   "source": [
    "cus_review_df=pd.DataFrame(cus_review_df)"
   ]
  },
  {
   "cell_type": "code",
   "execution_count": 39,
   "id": "07c66e95-bf16-4c7a-b7b1-1c9e85988236",
   "metadata": {},
   "outputs": [
    {
     "name": "stdout",
     "output_type": "stream",
     "text": [
      "   ReviewID  CustomerID  ProductID  ReviewDate  Rating  \\\n",
      "0         1          77         18  2023-12-23       3   \n",
      "1         2          80         19  2024-12-25       5   \n",
      "2         3          50         13  2025-01-26       4   \n",
      "3         4          78         15  2025-04-21       3   \n",
      "4         5          64          2  2023-07-16       3   \n",
      "\n",
      "                                 ReviewText  SentimentScore SentimentCategory  \\\n",
      "0   Average  experience,  nothing  special.         -0.3089    Mixed Negative   \n",
      "1            The  quality  is    top-notch.          0.0000          Positive   \n",
      "2   Five  stars  for  the  quick  delivery.          0.0000          Positive   \n",
      "3  Good  quality,  but  could  be  cheaper.          0.2382    Mixed Positive   \n",
      "4   Average  experience,  nothing  special.         -0.3089    Mixed Negative   \n",
      "\n",
      "  SentimentBucket  \n",
      "0    -0.49 to 0.0  \n",
      "1     0.0 to 0.49  \n",
      "2     0.0 to 0.49  \n",
      "3     0.0 to 0.49  \n",
      "4    -0.49 to 0.0  \n"
     ]
    }
   ],
   "source": [
    "print(cus_review_df.head())"
   ]
  },
  {
   "cell_type": "code",
   "execution_count": 41,
   "id": "fcfb7c0e-fc93-42db-bf4f-d471f15daf10",
   "metadata": {},
   "outputs": [],
   "source": [
    "cus_review_df.to_csv('fact_customer_reviews_with_sentiment.csv', index=False)"
   ]
  },
  {
   "cell_type": "code",
   "execution_count": null,
   "id": "15b38170-0dcb-4f94-bed6-39cead1b0b11",
   "metadata": {},
   "outputs": [],
   "source": []
  }
 ],
 "metadata": {
  "kernelspec": {
   "display_name": "Python 3 (ipykernel)",
   "language": "python",
   "name": "python3"
  },
  "language_info": {
   "codemirror_mode": {
    "name": "ipython",
    "version": 3
   },
   "file_extension": ".py",
   "mimetype": "text/x-python",
   "name": "python",
   "nbconvert_exporter": "python",
   "pygments_lexer": "ipython3",
   "version": "3.12.4"
  }
 },
 "nbformat": 4,
 "nbformat_minor": 5
}
